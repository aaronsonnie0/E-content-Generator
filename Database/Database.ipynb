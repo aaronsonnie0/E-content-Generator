{
  "nbformat": 4,
  "nbformat_minor": 0,
  "metadata": {
    "colab": {
      "provenance": []
    },
    "kernelspec": {
      "name": "python3",
      "display_name": "Python 3"
    },
    "language_info": {
      "name": "python"
    }
  },
  "cells": [
    {
      "cell_type": "code",
      "execution_count": null,
      "metadata": {
        "colab": {
          "base_uri": "https://localhost:8080/"
        },
        "id": "vlIJMi4WV3-Y",
        "outputId": "8bf86911-9957-4ed7-f4d7-ab270f0f3d6c"
      },
      "outputs": [
        {
          "output_type": "stream",
          "name": "stdout",
          "text": [
            "Collecting mysql-connector-python\n",
            "  Downloading mysql_connector_python-9.2.0-cp311-cp311-manylinux_2_28_x86_64.whl.metadata (6.0 kB)\n",
            "Requirement already satisfied: sqlalchemy in /usr/local/lib/python3.11/dist-packages (2.0.38)\n",
            "Requirement already satisfied: greenlet!=0.4.17 in /usr/local/lib/python3.11/dist-packages (from sqlalchemy) (3.1.1)\n",
            "Requirement already satisfied: typing-extensions>=4.6.0 in /usr/local/lib/python3.11/dist-packages (from sqlalchemy) (4.12.2)\n",
            "Downloading mysql_connector_python-9.2.0-cp311-cp311-manylinux_2_28_x86_64.whl (34.0 MB)\n",
            "\u001b[2K   \u001b[90m━━━━━━━━━━━━━━━━━━━━━━━━━━━━━━━━━━━━━━━━\u001b[0m \u001b[32m34.0/34.0 MB\u001b[0m \u001b[31m18.9 MB/s\u001b[0m eta \u001b[36m0:00:00\u001b[0m\n",
            "\u001b[?25hInstalling collected packages: mysql-connector-python\n",
            "Successfully installed mysql-connector-python-9.2.0\n"
          ]
        }
      ],
      "source": [
        "!pip install mysql-connector-python sqlalchemy\n"
      ]
    },
    {
      "cell_type": "code",
      "source": [
        "CREATE TABLE Users (\n",
        "    user_id INT PRIMARY KEY AUTO_INCREMENT,       -- Unique user ID\n",
        "    username VARCHAR(50) NOT NULL,                -- Username for the user\n",
        "    email VARCHAR(100) NOT NULL UNIQUE,           -- Email (unique)\n",
        "    password VARCHAR(255) NOT NULL,               -- Password (hashed)\n",
        "    created_at TIMESTAMP DEFAULT CURRENT_TIMESTAMP\n",
        ");\n",
        "CREATE TABLE Subjects (\n",
        "    subject_id INT PRIMARY KEY AUTO_INCREMENT,   -- Unique subject ID\n",
        "    subject_name VARCHAR(100) NOT NULL,           -- Name of the subject (e.g., Math, Physics)\n",
        "    description TEXT,                             -- A short description of the subject\n",
        "    created_at TIMESTAMP DEFAULT CURRENT_TIMESTAMP\n",
        ");\n",
        "CREATE TABLE Generated_Content (\n",
        "    content_id INT PRIMARY KEY AUTO_INCREMENT,    -- Unique content ID\n",
        "    user_id INT,                                  -- Foreign key to Users table\n",
        "    subject_id INT,                               -- Foreign key to Subjects table\n",
        "    content_type ENUM('Lesson', 'Summary', 'Study Guide') NOT NULL, -- Type of content\n",
        "    content TEXT NOT NULL,                        -- The actual content text\n",
        "    created_at TIMESTAMP DEFAULT CURRENT_TIMESTAMP,\n",
        "    FOREIGN KEY (user_id) REFERENCES Users(user_id),\n",
        "    FOREIGN KEY (subject_id) REFERENCES Subjects(subject_id)\n",
        ");\n",
        "CREATE TABLE Quizzes (\n",
        "    quiz_id INT PRIMARY KEY AUTO_INCREMENT,       -- Unique quiz ID\n",
        "    content_id INT,                               -- Foreign key to Generated_Content\n",
        "    question TEXT NOT NULL,                       -- Question text\n",
        "    option_a TEXT NOT NULL,                       -- Option A\n",
        "    option_b TEXT NOT NULL,                       -- Option B\n",
        "    option_c TEXT NOT NULL,                       -- Option C\n",
        "    option_d TEXT NOT NULL,                       -- Option D\n",
        "    correct_option CHAR(1) NOT NULL,              -- Correct option (A/B/C/D)\n",
        "    created_at TIMESTAMP DEFAULT CURRENT_TIMESTAMP,\n",
        "    FOREIGN KEY (content_id) REFERENCES Generated_Content(content_id)\n",
        ");\n",
        "SELECT gc.content, gc.content_type\n",
        "FROM Generated_Content gc\n",
        "JOIN Subjects s ON gc.subject_id = s.subject_id\n",
        "WHERE s.subject_name = 'Science';\n",
        "SELECT q.question, q.option_a, q.option_b, q.option_c, q.option_d\n",
        "FROM Quizzes q\n",
        "JOIN Generated_Content gc ON q.content_id = gc.content_id\n",
        "WHERE gc.content_id = 1;"
      ],
      "metadata": {
        "id": "f8YhRCO4XnLA"
      },
      "execution_count": null,
      "outputs": []
    },
    {
      "cell_type": "code",
      "source": [
        "INSERT INTO Subjects (subject_name, description)\n",
        "VALUES ('Science', 'A field of study focused on understanding the natural world through observation and experimentation.');\n",
        "INSERT INTO Users (username, email, password)\n",
        "VALUES ('john_doe', 'john@example.com', 'hashed_password_here');\n",
        "INSERT INTO Generated_Content (user_id, subject_id, content_type, content)\n",
        "VALUES (1, 1, 'Lesson', 'This is a sample lesson about the basics of chemistry...');\n",
        "INSERT INTO Quizzes (content_id, question, option_a, option_b, option_c, option_d, correct_option)\n",
        "VALUES (1, 'What is the atomic number of Hydrogen?', '1', '2', '3', '4', 'A');"
      ],
      "metadata": {
        "id": "Hek40ZD_XoNo"
      },
      "execution_count": null,
      "outputs": []
    }
  ]
}